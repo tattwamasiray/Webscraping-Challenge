{
 "cells": [
  {
   "attachments": {},
   "cell_type": "markdown",
   "metadata": {},
   "source": [
    "# Module 12 Challenge\n",
    "## Deliverable 2: Scrape and Analyse Mars Weather Data"
   ]
  },
  {
   "cell_type": "code",
   "execution_count": 1,
   "metadata": {},
   "outputs": [],
   "source": [
    "# Import relevant libraries\n",
    "from splinter import Browser\n",
    "from bs4 import BeautifulSoup\n",
    "import matplotlib.pyplot as plt\n",
    "import pandas as pd"
   ]
  },
  {
   "cell_type": "code",
   "execution_count": 2,
   "metadata": {},
   "outputs": [],
   "source": [
    "browser = Browser('chrome')"
   ]
  },
  {
   "attachments": {},
   "cell_type": "markdown",
   "metadata": {},
   "source": [
    "### Step 1: Visit the Website\n",
    "\n",
    "Use automated browsing to visit the [Mars Temperature Data Site](https://static.bc-edx.com/data/web/mars_facts/temperature.html). Inspect the page to identify which elements to scrape.\n",
    "\n",
    "   > **Hint** To identify which elements to scrape, you might want to inspect the page by using Chrome DevTools to discover whether the table contains usable classes.\n"
   ]
  },
  {
   "cell_type": "code",
   "execution_count": 3,
   "metadata": {},
   "outputs": [],
   "source": [
    "# Visit the website\n",
    "url = \"https://static.bc-edx.com/data/web/mars_facts/temperature.html\"\n",
    "browser.visit(url)\n"
   ]
  },
  {
   "attachments": {},
   "cell_type": "markdown",
   "metadata": {},
   "source": [
    "### Step 2: Scrape the Table\n",
    "\n",
    "Create a Beautiful Soup object and use it to scrape the data in the HTML table.\n",
    "\n",
    "Note that this can also be achieved by using the Pandas `read_html` function. However, use Beautiful Soup here to continue sharpening your web scraping skills."
   ]
  },
  {
   "cell_type": "code",
   "execution_count": 5,
   "metadata": {},
   "outputs": [],
   "source": [
    "# Create a Beautiful Soup Object\n",
    "html = browser.html\n",
    "soup = BeautifulSoup(html, 'html.parser')\n"
   ]
  },
  {
   "cell_type": "code",
   "execution_count": 6,
   "metadata": {},
   "outputs": [],
   "source": [
    "# Extract all rows of data\n",
    "table = soup.find('table')\n",
    "rows = table.find_all('tr')"
   ]
  },
  {
   "attachments": {},
   "cell_type": "markdown",
   "metadata": {},
   "source": [
    "### Step 3: Store the Data\n",
    "\n",
    "Assemble the scraped data into a Pandas DataFrame. The columns should have the same headings as the table on the website. Here’s an explanation of the column headings:\n",
    "\n",
    "* `id`: the identification number of a single transmission from the Curiosity rover\n",
    "* `terrestrial_date`: the date on Earth\n",
    "* `sol`: the number of elapsed sols (Martian days) since Curiosity landed on Mars\n",
    "* `ls`: the solar longitude\n",
    "* `month`: the Martian month\n",
    "* `min_temp`: the minimum temperature, in Celsius, of a single Martian day (sol)\n",
    "* `pressure`: The atmospheric pressure at Curiosity's location"
   ]
  },
  {
   "cell_type": "code",
   "execution_count": 8,
   "metadata": {},
   "outputs": [],
   "source": [
    "# Create an empty list\n",
    "\n",
    "# Loop through the scraped data to create a list of rows\n",
    "ids = []\n",
    "terrestrial_dates = []\n",
    "sols = []\n",
    "ls = []\n",
    "month = []\n",
    "min_temp = []\n",
    "pressure = []\n",
    "data = []\n",
    "\n",
    "for row in rows[1:]:  # Skip the header row (index 0)\n",
    "    columns = row.find_all('td')\n",
    "    row_data = {\n",
    "        'id': columns[0].text.strip(),\n",
    "        'terrestrial_date': columns[1].text.strip(),\n",
    "        'sol': int(columns[2].text.strip()),\n",
    "        'ls': float(columns[3].text.strip()),\n",
    "        'month': int(columns[4].text.strip()),\n",
    "        'min_temp': float(columns[5].text.strip()),\n",
    "        'pressure': float(columns[6].text.strip())\n",
    "    }\n",
    "    data.append(row_data)"
   ]
  },
  {
   "cell_type": "code",
   "execution_count": 10,
   "metadata": {},
   "outputs": [],
   "source": [
    "# Create a Pandas DataFrame by using the list of rows and a list of the column names\n",
    "# Create a DataFrame from the list of dictionaries\n",
    "mars_weather_df = pd.DataFrame(data)\n"
   ]
  },
  {
   "cell_type": "code",
   "execution_count": 11,
   "metadata": {},
   "outputs": [
    {
     "name": "stdout",
     "output_type": "stream",
     "text": [
      "        id terrestrial_date   sol     ls  month  min_temp  pressure\n",
      "0        2       2012-08-16    10  155.0      6     -75.0     739.0\n",
      "1       13       2012-08-17    11  156.0      6     -76.0     740.0\n",
      "2       24       2012-08-18    12  156.0      6     -76.0     741.0\n",
      "3       35       2012-08-19    13  157.0      6     -74.0     732.0\n",
      "4       46       2012-08-20    14  157.0      6     -74.0     740.0\n",
      "...    ...              ...   ...    ...    ...       ...       ...\n",
      "1862  1889       2018-02-23  1973  133.0      5     -78.0     730.0\n",
      "1863  1892       2018-02-24  1974  134.0      5     -77.0     729.0\n",
      "1864  1894       2018-02-25  1975  134.0      5     -76.0     729.0\n",
      "1865  1893       2018-02-26  1976  135.0      5     -77.0     728.0\n",
      "1866  1895       2018-02-27  1977  135.0      5     -77.0     727.0\n",
      "\n",
      "[1867 rows x 7 columns]\n"
     ]
    }
   ],
   "source": [
    "# Confirm DataFrame was created successfully\n",
    "# Print the DataFrame\n",
    "print(mars_weather_df)"
   ]
  },
  {
   "attachments": {},
   "cell_type": "markdown",
   "metadata": {},
   "source": [
    "### Step 4: Prepare Data for Analysis\n",
    "\n",
    "Examine the data types that are currently associated with each column. If necessary, cast (or convert) the data to the appropriate `datetime`, `int`, or `float` data types.\n",
    "\n",
    "  > **Hint** You can use the Pandas `astype` and `to_datetime` methods to accomplish this task.\n"
   ]
  },
  {
   "cell_type": "code",
   "execution_count": 12,
   "metadata": {},
   "outputs": [
    {
     "name": "stdout",
     "output_type": "stream",
     "text": [
      "id                   object\n",
      "terrestrial_date     object\n",
      "sol                   int64\n",
      "ls                  float64\n",
      "month                 int64\n",
      "min_temp            float64\n",
      "pressure            float64\n",
      "dtype: object\n"
     ]
    }
   ],
   "source": [
    "# Examine data type of each column\n",
    "# Print the data type of each column\n",
    "print(mars_weather_df.dtypes)\n"
   ]
  },
  {
   "cell_type": "code",
   "execution_count": 13,
   "metadata": {},
   "outputs": [
    {
     "name": "stdout",
     "output_type": "stream",
     "text": [
      "id                          object\n",
      "terrestrial_date    datetime64[ns]\n",
      "sol                          int64\n",
      "ls                         float64\n",
      "month                        int64\n",
      "min_temp                   float64\n",
      "pressure                   float64\n",
      "dtype: object\n"
     ]
    }
   ],
   "source": [
    "# Change data types for data analysis\n",
    "# Convert 'terrestrial_date' to datetime type\n",
    "mars_weather_df['terrestrial_date'] = pd.to_datetime(mars_weather_df['terrestrial_date'])\n",
    "\n",
    "# Convert 'sol' and 'month' to int type\n",
    "mars_weather_df['sol'] = mars_weather_df['sol'].astype(int)\n",
    "mars_weather_df['month'] = mars_weather_df['month'].astype(int)\n",
    "\n",
    "# Convert 'ls', 'min_temp', and 'pressure' to float type\n",
    "mars_weather_df['ls'] = mars_weather_df['ls'].astype(float)\n",
    "mars_weather_df['min_temp'] = mars_weather_df['min_temp'].astype(float)\n",
    "mars_weather_df['pressure'] = mars_weather_df['pressure'].astype(float)\n",
    "\n",
    "# Print the data type of each column after conversion\n",
    "print(mars_weather_df.dtypes)\n"
   ]
  },
  {
   "cell_type": "code",
   "execution_count": 11,
   "metadata": {},
   "outputs": [
    {
     "data": {
      "text/plain": [
       "id                          object\n",
       "terrestrial_date    datetime64[ns]\n",
       "sol                          int64\n",
       "ls                           int64\n",
       "month                        int64\n",
       "min_temp                   float64\n",
       "pressure                   float64\n",
       "dtype: object"
      ]
     },
     "execution_count": 11,
     "metadata": {},
     "output_type": "execute_result"
    }
   ],
   "source": [
    "# Confirm type changes were successful by examining data types again\n"
   ]
  },
  {
   "attachments": {},
   "cell_type": "markdown",
   "metadata": {},
   "source": [
    "### Step 5: Analyse the Data\n",
    "\n",
    "Analyse your dataset by using Pandas functions to answer the following questions:\n",
    "\n",
    "1. How many months exist on Mars?\n",
    "2. How many Martian (and not Earth) days worth of data exist in the scraped dataset?\n",
    "3. What are the coldest and the warmest months on Mars (at the location of Curiosity)? To answer this question:\n",
    "    * Find the average the minimum daily temperature for all of the months.\n",
    "    * Plot the results as a bar chart.\n",
    "4. Which months have the lowest and the highest atmospheric pressure on Mars? To answer this question:\n",
    "    * Find the average the daily atmospheric pressure of all the months.\n",
    "    * Plot the results as a bar chart.\n",
    "5. About how many terrestrial (Earth) days exist in a Martian year? To answer this question:\n",
    "    * Consider how many days elapse on Earth in the time that Mars circles the Sun once.\n",
    "    * Visually estimate the result by plotting the daily minimum temperature.\n"
   ]
  },
  {
   "cell_type": "code",
   "execution_count": 14,
   "metadata": {},
   "outputs": [
    {
     "name": "stdout",
     "output_type": "stream",
     "text": [
      "Number of months on Mars: 12\n"
     ]
    }
   ],
   "source": [
    "# 1. How many months are there on Mars?\n",
    "# Find the number of months on Mars\n",
    "num_months = mars_weather_df['month'].nunique()\n",
    "\n",
    "# Print the result\n",
    "print(\"Number of months on Mars:\", num_months)\n"
   ]
  },
  {
   "cell_type": "code",
   "execution_count": 15,
   "metadata": {},
   "outputs": [
    {
     "name": "stdout",
     "output_type": "stream",
     "text": [
      "Number of Martian days' worth of data: 1867\n"
     ]
    }
   ],
   "source": [
    "# 2. How many Martian days' worth of data are there?\n",
    "# Find the number of Martian days' worth of data\n",
    "num_martian_days = mars_weather_df['sol'].nunique()\n",
    "\n",
    "# Print the result\n",
    "print(\"Number of Martian days' worth of data:\", num_martian_days)\n"
   ]
  },
  {
   "cell_type": "code",
   "execution_count": 16,
   "metadata": {},
   "outputs": [
    {
     "name": "stdout",
     "output_type": "stream",
     "text": [
      "Average Low Temperature by Month:\n",
      "month\n",
      "1    -77.160920\n",
      "2    -79.932584\n",
      "3    -83.307292\n",
      "4    -82.747423\n",
      "5    -79.308725\n",
      "6    -75.299320\n",
      "7    -72.281690\n",
      "8    -68.382979\n",
      "9    -69.171642\n",
      "10   -71.982143\n",
      "11   -71.985507\n",
      "12   -74.451807\n",
      "Name: min_temp, dtype: float64\n"
     ]
    }
   ],
   "source": [
    "# 3. What is the average low temperature by month?\n",
    "# Calculate the average low temperature (minimum temperature) by month\n",
    "average_min_temp_by_month = mars_weather_df.groupby('month')['min_temp'].mean()\n",
    "\n",
    "# Print the result\n",
    "print(\"Average Low Temperature by Month:\")\n",
    "print(average_min_temp_by_month)\n"
   ]
  },
  {
   "cell_type": "code",
   "execution_count": 17,
   "metadata": {},
   "outputs": [
    {
     "data": {
      "image/png": "[encoded data removed]",
      "text/plain": [
       "<Figure size 1000x600 with 1 Axes>"
      ]
     },
     "metadata": {},
     "output_type": "display_data"
    }
   ],
   "source": [
    "# Plot the average temperature by month\n",
    "import matplotlib.pyplot as plt\n",
    "\n",
    "# Plot the average temperature by month\n",
    "plt.figure(figsize=(10, 6))\n",
    "average_min_temp_by_month.plot(kind='bar', color='skyblue')\n",
    "plt.title('Average Low Temperature by Month on Mars')\n",
    "plt.xlabel('Month')\n",
    "plt.ylabel('Average Low Temperature (Celsius)')\n",
    "plt.xticks(rotation=0)\n",
    "plt.tight_layout()\n",
    "plt.show()\n"
   ]
  },
  {
   "cell_type": "code",
   "execution_count": 18,
   "metadata": {},
   "outputs": [
    {
     "name": "stdout",
     "output_type": "stream",
     "text": [
      "Coldest Month at Curiosity's Location: 3\n",
      "Hottest Month at Curiosity's Location: 8\n"
     ]
    }
   ],
   "source": [
    "# Identify the coldest and hottest months in Curiosity's location\n",
    "# Find the coldest and hottest months\n",
    "coldest_month = average_min_temp_by_month.idxmin()\n",
    "hottest_month = average_min_temp_by_month.idxmax()\n",
    "\n",
    "# Print the result\n",
    "print(\"Coldest Month at Curiosity's Location:\", coldest_month)\n",
    "print(\"Hottest Month at Curiosity's Location:\", hottest_month)\n"
   ]
  },
  {
   "cell_type": "code",
   "execution_count": 19,
   "metadata": {},
   "outputs": [
    {
     "name": "stdout",
     "output_type": "stream",
     "text": [
      "Average Pressure by Martian Month:\n",
      "month\n",
      "1     862.488506\n",
      "2     889.455056\n",
      "3     877.322917\n",
      "4     806.329897\n",
      "5     748.557047\n",
      "6     745.054422\n",
      "7     795.105634\n",
      "8     873.829787\n",
      "9     913.305970\n",
      "10    887.312500\n",
      "11    857.014493\n",
      "12    842.156627\n",
      "Name: pressure, dtype: float64\n"
     ]
    }
   ],
   "source": [
    "# 4. Average pressure by Martian month\n",
    "# Calculate the average pressure by Martian month\n",
    "average_pressure_by_month = mars_weather_df.groupby('month')['pressure'].mean()\n",
    "\n",
    "# Print the result\n",
    "print(\"Average Pressure by Martian Month:\")\n",
    "print(average_pressure_by_month)\n"
   ]
  },
  {
   "cell_type": "code",
   "execution_count": 20,
   "metadata": {},
   "outputs": [
    {
     "data": {
      "image/png": "[encoded data removed]",
      "text/plain": [
       "<Figure size 1000x600 with 1 Axes>"
      ]
     },
     "metadata": {},
     "output_type": "display_data"
    }
   ],
   "source": [
    "# Plot the average pressure by month\n",
    "import matplotlib.pyplot as plt\n",
    "\n",
    "# Plot the average pressure by Martian month\n",
    "plt.figure(figsize=(10, 6))\n",
    "average_pressure_by_month.plot(kind='bar', color='lightgreen')\n",
    "plt.title('Average Atmospheric Pressure by Martian Month at Curiosity\\'s Location')\n",
    "plt.xlabel('Martian Month')\n",
    "plt.ylabel('Average Atmospheric Pressure (Pascals)')\n",
    "plt.xticks(rotation=0)\n",
    "plt.tight_layout()\n",
    "plt.show()\n"
   ]
  },
  {
   "cell_type": "code",
   "execution_count": 25,
   "metadata": {},
   "outputs": [
    {
     "name": "stdout",
     "output_type": "stream",
     "text": [
      "Number of Terrestrial (Earth) Days in a Martian Year: 1.8809034907597535\n"
     ]
    },
    {
     "data": {
      "image/png": "[encoded data removed]",
      "text/plain": [
       "<Figure size 600x400 with 1 Axes>"
      ]
     },
     "metadata": {},
     "output_type": "display_data"
    }
   ],
   "source": [
    "# 5. How many terrestrial (earth) days are there in a Martian year?\n",
    "\n",
    "# Calculate the number of terrestrial (Earth) days in a Martian year\n",
    "martian_year_days = 687\n",
    "earth_year_days = 365.25\n",
    "terrestrial_days_in_martian_year = martian_year_days / earth_year_days\n",
    "\n",
    "# Print the result\n",
    "print(\"Number of Terrestrial (Earth) Days in a Martian Year:\", terrestrial_days_in_martian_year)\n",
    "\n",
    "# Plot the result\n",
    "plt.figure(figsize=(6, 4))\n",
    "plt.bar(['Martian Year'], [terrestrial_days_in_martian_year], color='orange')\n",
    "plt.title('Number of Terrestrial (Earth) Days in a Martian Year')\n",
    "plt.ylabel('Number of Terrestrial Days')\n",
    "plt.tight_layout()\n",
    "plt.show()\n"
   ]
  },
  {
   "attachments": {},
   "cell_type": "markdown",
   "metadata": {},
   "source": [
    "On average, the third month has the coldest minimum temperature on Mars, and the eighth month is the warmest. But it is always very cold there in human terms!\n",
    "\n"
   ]
  },
  {
   "attachments": {},
   "cell_type": "markdown",
   "metadata": {},
   "source": [
    "Atmospheric pressure is, on average, lowest in the sixth month and highest in the ninth."
   ]
  },
  {
   "attachments": {},
   "cell_type": "markdown",
   "metadata": {},
   "source": [
    "The distance from peak to peak is roughly 1425-750, or 675 days. A year on Mars appears to be about 675 days from the plot. Internet search confirms that a Mars year is equivalent to 687 earth days."
   ]
  },
  {
   "attachments": {},
   "cell_type": "markdown",
   "metadata": {},
   "source": [
    "### Step 6: Save the Data\n",
    "\n",
    "Export the DataFrame to a CSV file."
   ]
  },
  {
   "cell_type": "code",
   "execution_count": 26,
   "metadata": {},
   "outputs": [],
   "source": [
    "\n",
    "# Write the data to a CSV file\n",
    "mars_weather_df.to_csv('mars_weather_data.csv', index=False)"
   ]
  },
  {
   "cell_type": "code",
   "execution_count": 21,
   "metadata": {},
   "outputs": [],
   "source": [
    "browser.quit()"
   ]
  },
  {
   "cell_type": "code",
   "execution_count": null,
   "metadata": {},
   "outputs": [],
   "source": []
  }
 ],
 "metadata": {
  "kernelspec": {
   "display_name": "Python 3 (ipykernel)",
   "language": "python",
   "name": "python3"
  },
  "language_info": {
   "codemirror_mode": {
    "name": "ipython",
    "version": 3
   },
   "file_extension": ".py",
   "mimetype": "text/x-python",
   "name": "python",
   "nbconvert_exporter": "python",
   "pygments_lexer": "ipython3",
   "version": "3.9.13"
  },
  "vscode": {
   "interpreter": {
    "hash": "31f2aee4e71d21fbe5cf8b01ff0e069b9275f58929596ceb00d14d90e3e16cd6"
   }
  }
 },
 "nbformat": 4,
 "nbformat_minor": 4
}
